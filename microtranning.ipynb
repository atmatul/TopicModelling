{
 "cells": [
  {
   "cell_type": "markdown",
   "metadata": {
    "collapsed": true
   },
   "source": [
    "#Micro Trainning: Topic Modelling"
   ]
  },
  {
   "cell_type": "markdown",
   "metadata": {},
   "source": [
    "##Use Case"
   ]
  },
  {
   "cell_type": "markdown",
   "metadata": {},
   "source": [
    "Imagine we have 1000 documents without a catelog to classify them into any catgories or interesting categories"
   ]
  },
  {
   "cell_type": "code",
   "execution_count": 35,
   "metadata": {},
   "outputs": [],
   "source": [
    "# Grab my Tools\n",
    "import os\n",
    "import utils\n",
    "import json\n",
    "from collections import Counter\n",
    "from gensim.corpora import Dictionary\n",
    "from gensim.models import CoherenceModel, LdaMulticore, TfidfModel\n",
    "\n",
    "# Data Path\n",
    "path = os.path.join(os.getcwd(), 'data')"
   ]
  },
  {
   "cell_type": "markdown",
   "metadata": {},
   "source": [
    "#### Steps to Model topics\n",
    "* Reading Data into Machine Understandable Format\n",
    "* Cleaning\n",
    "* Building a Word Frequency Dictonary \n",
    "* Fitting a [LDA](https://ai.stanford.edu/~ang/papers/jair03-lda.pdf) ([for dummies](https://www.quora.com/What-is-a-good-explanation-of-Latent-Dirichlet-Allocation))\n",
    "* Visualizing Results\n",
    "* Building on Top of Result"
   ]
  },
  {
   "cell_type": "code",
   "execution_count": 13,
   "metadata": {},
   "outputs": [
    {
     "name": "stdout",
     "output_type": "stream",
     "text": [
      "Read 29 files\nSample Entry:\n {\n  \"ENTRYTYPE\": \"article\",\n  \"ID\": \"Boci2015\",\n  \"abstract\": \"The first building block of the Federal Aviation Administration's (FAA) Next Generation Air Transportation System (NextGen) initiative to modernize the US national airspace system (NAS) was the implementation of the Automatic Dependent Surveillance-Broadcast (ADS-B) ground infrastructure. A primary aspect of the ADS-B program design is the terrestrial radio station infrastructure. It determined the terrestrial radio stations layout throughout the US and was optimized to meet system performance, safety and security in the NAS. In March 2014, the FAA completed the nationwide infrastructure upgrade, enabling air traffic controllers to track aircraft with greater accuracy and reliability, while giving pilots more information in the cockpit. More than 650 ADS-B radios communicate with equipped aircraft, supporting the new satellite-based surveillance system. Currently, the ADS-B system ingests processes and stores large data sets, while operating at ten percent capacity. As aircraft avionics equipage increases, the volume of data and storage needs will increase beyond our existing system's capacity and processing capability. A new, Hadoop-based architecture was tested to ingest and analyze billions of CAT033 reports in minutes. This paper presents the 'Big Data' approach that was adopted to support fast analytics of large ADS-B data volume. {\\\\textcopyright} 2015 IEEE.\",\n  \"author\": \"Boci, E and Thistlethwaite, S\",\n  \"doi\": \"10.1109/ICNSURV.2015.7121218\",\n  \"file\": \":D$\\\\backslash$:/D Drive/Thesis/Documents/Research Papers/A NOVEL BIG DATA ARCHITECTURE IN SUPPORT OF ADS-B DATA.pdf:pdf\",\n  \"isbn\": \"9781479989522 (ISBN)\",\n  \"journal\": \"2015 15th Annual Integrated Communication, Navigation and Surveillance Conference, ICNS 2015\",\n  \"keywords\": \"Air traffic control,Air traffic controller,Air transportation,Aircraft detection,Automatic dependent surveillance - broadcasts,Balloons,Big data,Cockpits (aircraft),Deceleration,Digital storage,Federal Aviation Administration,Fighter aircraft,Ground infrastructures,Monitoring,National airspace system,Next-generation air transportation systems,Processing capability,Radio stations,Station infrastructure\",\n  \"mendeley-groups\": \"i5 - literature search\",\n  \"pages\": \"C11--C18\",\n  \"title\": \"{A novel big data architecture in support of ADS-B data analytic}\",\n  \"url\": \"http://www.scopus.com/inward/record.url?eid=2-s2.0-84938778052{\\\\&}partnerID=40{\\\\&}md5=6329c29e6d5de8a7c7aa0c6fcaff5247\",\n  \"year\": \"2015\"\n}\n"
     ]
    }
   ],
   "source": [
    "# Reading Data\n",
    "files = utils.readfiles(path)\n",
    "lst_files = utils.parsebibfiles(files)\n",
    "\n",
    "# Sample\n",
    "print(\"Read {0} files\\nSample Entry:\\n {1}\".format(len(lst_files), json.dumps(lst_files[1], indent=2, sort_keys=True)))"
   ]
  },
  {
   "cell_type": "code",
   "execution_count": 14,
   "metadata": {},
   "outputs": [
    {
     "name": "stdout",
     "output_type": "stream",
     "text": [
      "Cleaned Text\nSample\nTop 10 Words in Document\n[('data', 5), ('research', 4), ('databas', 3), ('meet', 2), ('impact', 2), ('report', 2), ('divers', 2), ('manag', 2), ('everi', 1), ('year', 1)]\n"
     ]
    }
   ],
   "source": [
    "# Clean Data\n",
    "lst_clean_bow = [utils.clean_abstract(file) for file in lst_files]\n",
    "\n",
    "# Sample\n",
    "print(\"Cleaned Text\\nSample\\nTop 10 Words in Document\\n{0}\".format(Counter(lst_clean_bow[2]).most_common(10)))"
   ]
  },
  {
   "cell_type": "code",
   "execution_count": 15,
   "metadata": {},
   "outputs": [],
   "source": [
    "# build gensim dict\n",
    "corpus_dict = Dictionary(lst_clean_bow)\n",
    "\n",
    "# filter low freq words threshold > 15 Abstracts\n",
    "corpus_dict.filter_extremes(no_below=2)\n",
    "\n",
    "# gensim doc2bow\n",
    "bow_corpus = [corpus_dict.doc2bow(doc) for doc in lst_clean_bow]\n",
    "\n",
    "# tf-idf model over bow\n",
    "tfidf_model = TfidfModel(bow_corpus)\n",
    "corpus_tfidf = tfidf_model[bow_corpus]\n",
    "\n",
    "\n"
   ]
  },
  {
   "cell_type": "code",
   "execution_count": 17,
   "metadata": {},
   "outputs": [
    {
     "name": "stdout",
     "output_type": "stream",
     "text": [
      "Topic: 0 Word: 0.013*\"tabl\" + 0.010*\"locat\" + 0.008*\"relat\" + 0.007*\"lake\" + 0.007*\"recommend\" + 0.007*\"element\" + 0.006*\"learn\" + 0.006*\"peopl\" + 0.006*\"related\" + 0.006*\"featur\"\nTopic: 1 Word: 0.011*\"cluster\" + 0.010*\"structur\" + 0.009*\"schema\" + 0.009*\"web\" + 0.008*\"custom\" + 0.008*\"text\" + 0.007*\"within\" + 0.007*\"dimens\" + 0.007*\"reduct\" + 0.007*\"statist\"\nTopic: 2 Word: 0.008*\"short\" + 0.008*\"cluster\" + 0.008*\"attribut\" + 0.007*\"text\" + 0.007*\"flexibl\" + 0.007*\"schema\" + 0.006*\"framework\" + 0.006*\"sourc\" + 0.006*\"represent\" + 0.005*\"entiti\"\nTopic: 3 Word: 0.012*\"match\" + 0.010*\"mani\" + 0.010*\"improv\" + 0.009*\"schema\" + 0.008*\"multipl\" + 0.008*\"combin\" + 0.007*\"reduct\" + 0.006*\"techniqu\" + 0.006*\"basic\" + 0.006*\"work\"\nTopic: 4 Word: 0.014*\"lake\" + 0.012*\"clean\" + 0.009*\"store\" + 0.007*\"warehous\" + 0.007*\"error\" + 0.007*\"queri\" + 0.006*\"analyz\" + 0.006*\"solut\" + 0.006*\"unstructur\" + 0.006*\"could\"\nTopic: 5 Word: 0.016*\"map\" + 0.014*\"lsd\" + 0.013*\"learner\" + 0.012*\"sourc\" + 0.010*\"system\" + 0.010*\"infrastructur\" + 0.009*\"attribut\" + 0.009*\"correspond\" + 0.008*\"semant\" + 0.008*\"schema\"\nTopic: 6 Word: 0.012*\"factor\" + 0.012*\"kernel\" + 0.010*\"converg\" + 0.009*\"subsequ\" + 0.009*\"research\" + 0.007*\"integr\" + 0.007*\"shown\" + 0.007*\"theoret\" + 0.007*\"issu\" + 0.007*\"view\"\nTopic: 7 Word: 0.015*\"match\" + 0.010*\"similar\" + 0.008*\"candid\" + 0.008*\"search\" + 0.007*\"complex\" + 0.006*\"object\" + 0.006*\"phase\" + 0.006*\"pair\" + 0.006*\"discov\" + 0.005*\"signific\"\nTopic: 8 Word: 0.011*\"kernel\" + 0.008*\"wikipedia\" + 0.008*\"represent\" + 0.007*\"classif\" + 0.007*\"document\" + 0.007*\"semant\" + 0.006*\"word\" + 0.005*\"emb\" + 0.005*\"commonli\" + 0.005*\"background\"\nTopic: 9 Word: 0.011*\"mine\" + 0.010*\"corpu\" + 0.010*\"element\" + 0.009*\"text\" + 0.008*\"match\" + 0.007*\"retriev\" + 0.007*\"schema\" + 0.007*\"cluster\" + 0.006*\"map\" + 0.006*\"reduct\"\n\nScore: 0.8994374871253967\t \nTopic: 0.015*\"match\" + 0.010*\"similar\" + 0.008*\"candid\" + 0.008*\"search\" + 0.007*\"complex\" + 0.006*\"object\" + 0.006*\"phase\" + 0.006*\"pair\" + 0.006*\"discov\" + 0.005*\"signific\"\n\nScore: 0.06792248785495758\t \nTopic: 0.011*\"cluster\" + 0.010*\"structur\" + 0.009*\"schema\" + 0.009*\"web\" + 0.008*\"custom\" + 0.008*\"text\" + 0.007*\"within\" + 0.007*\"dimens\" + 0.007*\"reduct\" + 0.007*\"statist\"\n\nScore: 0.024583127349615097\t \nTopic: 0.013*\"tabl\" + 0.010*\"locat\" + 0.008*\"relat\" + 0.007*\"lake\" + 0.007*\"recommend\" + 0.007*\"element\" + 0.006*\"learn\" + 0.006*\"peopl\" + 0.006*\"related\" + 0.006*\"featur\"\n"
     ]
    }
   ],
   "source": [
    "# gensim LDA model over tf-idf\n",
    "lda_tfidf_model = LdaMulticore(corpus_tfidf, num_topics=10, id2word=corpus_dict, passes=2, workers=4)\n",
    "\n",
    "# preview\n",
    "for idx, topic in lda_tfidf_model.print_topics(-1):\n",
    "    print('Topic: {} Word: {}'.format(idx, topic))\n",
    "\n",
    "for index, score in sorted(lda_tfidf_model[bow_corpus[12]], key=lambda tup: -1 * tup[1]):\n",
    "    print(\"\\nScore: {}\\t \\nTopic: {}\".format(score, lda_tfidf_model.print_topic(index, 10)))"
   ]
  },
  {
   "cell_type": "code",
   "execution_count": null,
   "metadata": {},
   "outputs": [
    {
     "ename": "AttributeError",
     "evalue": "module 'utils' has no attribute 'visualize_lda_model'",
     "traceback": [
      "\u001b[0;31m---------------------------------------------------------------------------\u001b[0m",
      "\u001b[0;31mAttributeError\u001b[0m                            Traceback (most recent call last)",
      "\u001b[0;32m<ipython-input-38-ad1c8e3d4169>\u001b[0m in \u001b[0;36m<module>\u001b[0;34m\u001b[0m\n\u001b[1;32m      1\u001b[0m \u001b[0;31m# Visualize\u001b[0m\u001b[0;34m\u001b[0m\u001b[0;34m\u001b[0m\u001b[0m\n\u001b[0;32m----> 2\u001b[0;31m \u001b[0mutils\u001b[0m\u001b[0;34m.\u001b[0m\u001b[0mvisualize_lda_model\u001b[0m\u001b[0;34m(\u001b[0m\u001b[0mmodel\u001b[0m\u001b[0;34m=\u001b[0m\u001b[0mlda_tfidf_model\u001b[0m\u001b[0;34m,\u001b[0m \u001b[0mcorpus\u001b[0m\u001b[0;34m=\u001b[0m\u001b[0mbow_corpus\u001b[0m\u001b[0;34m,\u001b[0m \u001b[0mcorpus_dict\u001b[0m\u001b[0;34m=\u001b[0m\u001b[0mcorpus_dict\u001b[0m\u001b[0;34m)\u001b[0m\u001b[0;34m\u001b[0m\u001b[0m\n\u001b[0m",
      "\u001b[0;31mAttributeError\u001b[0m: module 'utils' has no attribute 'visualize_lda_model'"
     ],
     "output_type": "error"
    }
   ],
   "source": [
    "# Visualize\n",
    "var = utils.visualize_lda_model(model=lda_tfidf_model, corpus=bow_corpus, corpus_dict=corpus_dict)\n",
    "print(var)"
   ]
  },
  {
   "cell_type": "code",
   "execution_count": null,
   "metadata": {},
   "outputs": [],
   "source": []
  }
 ],
 "metadata": {
  "kernelspec": {
   "display_name": "Python 2",
   "language": "python",
   "name": "python2"
  },
  "language_info": {
   "codemirror_mode": {
    "name": "ipython",
    "version": 2
   },
   "file_extension": ".py",
   "mimetype": "text/x-python",
   "name": "python",
   "nbconvert_exporter": "python",
   "pygments_lexer": "ipython2",
   "version": "2.7.6"
  }
 },
 "nbformat": 4,
 "nbformat_minor": 0
}
