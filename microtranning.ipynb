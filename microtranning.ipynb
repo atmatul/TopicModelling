{
 "cells": [
  {
   "cell_type": "markdown",
   "metadata": {
    "collapsed": true
   },
   "source": [
    "#Micro Trainning: Topic Modelling"
   ]
  },
  {
   "cell_type": "markdown",
   "metadata": {},
   "source": [
    "##Use Case"
   ]
  },
  {
   "cell_type": "markdown",
   "metadata": {},
   "source": [
    "Imagine we have 1000 documents without a catelog to classify them into any catgories or interesting categories"
   ]
  },
  {
   "cell_type": "code",
   "execution_count": 8,
   "metadata": {},
   "outputs": [],
   "source": [
    "# Grab my Tools\n",
    "import os\n",
    "import utils\n",
    "import json\n",
    "from collections import Counter\n",
    "from gensim.corpora import Dictionary\n",
    "from gensim.models import LdaMulticore, TfidfModel\n",
    "import pyLDAvis.gensim\n",
    "\n",
    "# Data Path\n",
    "path = os.path.join(os.getcwd(), 'data')\n",
    "\n",
    "# Enable visualization\n",
    "pyLDAvis.enable_notebook()"
   ]
  },
  {
   "cell_type": "markdown",
   "metadata": {},
   "source": [
    "#### Steps to Model topics\n",
    "* Reading Data into Machine Understandable Format\n",
    "* Cleaning\n",
    "* Building a Word Frequency Dictonary \n",
    "* Fitting a [LDA](https://ai.stanford.edu/~ang/papers/jair03-lda.pdf) ([for dummies](https://www.quora.com/What-is-a-good-explanation-of-Latent-Dirichlet-Allocation))\n",
    "* Visualizing Results\n",
    "* Building on Top of Result"
   ]
  },
  {
   "cell_type": "code",
   "execution_count": 3,
   "metadata": {},
   "outputs": [
    {
     "name": "stdout",
     "output_type": "stream",
     "text": [
      "Read 1485 files\nSample Entry:\n {\n  \"ENTRYTYPE\": \"article\",\n  \"ID\": \"Boci2015\",\n  \"abstract\": \"The first building block of the Federal Aviation Administration's (FAA) Next Generation Air Transportation System (NextGen) initiative to modernize the US national airspace system (NAS) was the implementation of the Automatic Dependent Surveillance-Broadcast (ADS-B) ground infrastructure. A primary aspect of the ADS-B program design is the terrestrial radio station infrastructure. It determined the terrestrial radio stations layout throughout the US and was optimized to meet system performance, safety and security in the NAS. In March 2014, the FAA completed the nationwide infrastructure upgrade, enabling air traffic controllers to track aircraft with greater accuracy and reliability, while giving pilots more information in the cockpit. More than 650 ADS-B radios communicate with equipped aircraft, supporting the new satellite-based surveillance system. Currently, the ADS-B system ingests processes and stores large data sets, while operating at ten percent capacity. As aircraft avionics equipage increases, the volume of data and storage needs will increase beyond our existing system's capacity and processing capability. A new, Hadoop-based architecture was tested to ingest and analyze billions of CAT033 reports in minutes. This paper presents the 'Big Data' approach that was adopted to support fast analytics of large ADS-B data volume. {\\\\textcopyright} 2015 IEEE.\",\n  \"author\": \"Boci, E and Thistlethwaite, S\",\n  \"doi\": \"10.1109/ICNSURV.2015.7121218\",\n  \"file\": \":D$\\\\backslash$:/D Drive/Thesis/Documents/Research Papers/A NOVEL BIG DATA ARCHITECTURE IN SUPPORT OF ADS-B DATA.pdf:pdf\",\n  \"isbn\": \"9781479989522 (ISBN)\",\n  \"journal\": \"2015 15th Annual Integrated Communication, Navigation and Surveillance Conference, ICNS 2015\",\n  \"keywords\": \"Air traffic control,Air traffic controller,Air transportation,Aircraft detection,Automatic dependent surveillance - broadcasts,Balloons,Big data,Cockpits (aircraft),Deceleration,Digital storage,Federal Aviation Administration,Fighter aircraft,Ground infrastructures,Monitoring,National airspace system,Next-generation air transportation systems,Processing capability,Radio stations,Station infrastructure\",\n  \"mendeley-groups\": \"i5 - literature search\",\n  \"pages\": \"C11--C18\",\n  \"title\": \"{A novel big data architecture in support of ADS-B data analytic}\",\n  \"url\": \"http://www.scopus.com/inward/record.url?eid=2-s2.0-84938778052{\\\\&}partnerID=40{\\\\&}md5=6329c29e6d5de8a7c7aa0c6fcaff5247\",\n  \"year\": \"2015\"\n}\n"
     ]
    }
   ],
   "source": [
    "# Reading Data\n",
    "files = utils.readfiles(path)\n",
    "lst_files = utils.parsebibfiles(files)\n",
    "\n",
    "# Sample\n",
    "print(\"Read {0} files\\nSample Entry:\\n {1}\".format(len(lst_files), json.dumps(lst_files[1], indent=2, sort_keys=True)))"
   ]
  },
  {
   "cell_type": "code",
   "execution_count": 4,
   "metadata": {},
   "outputs": [
    {
     "name": "stdout",
     "output_type": "stream",
     "text": [
      "Cleaned Text\nSample\nTop 10 Words in Document\n[('data', 5), ('research', 4), ('databas', 3), ('meet', 2), ('impact', 2), ('report', 2), ('divers', 2), ('manag', 2), ('everi', 1), ('year', 1)]\n"
     ]
    }
   ],
   "source": [
    "# Clean Data\n",
    "lst_clean_bow = [utils.clean_abstract(file) for file in lst_files]\n",
    "\n",
    "# Sample\n",
    "print(\"Cleaned Text\\nSample\\nTop 10 Words in Document\\n{0}\".format(Counter(lst_clean_bow[2]).most_common(10)))"
   ]
  },
  {
   "cell_type": "code",
   "execution_count": 5,
   "metadata": {},
   "outputs": [],
   "source": [
    "# build gensim dict\n",
    "corpus_dict = Dictionary(lst_clean_bow)\n",
    "\n",
    "# filter low freq words threshold > 15 Abstracts\n",
    "corpus_dict.filter_extremes(no_below=2)\n",
    "\n",
    "# gensim doc2bow\n",
    "bow_corpus = [corpus_dict.doc2bow(doc) for doc in lst_clean_bow]\n",
    "\n",
    "# tf-idf model over bow\n",
    "tfidf_model = TfidfModel(bow_corpus)\n",
    "corpus_tfidf = tfidf_model[bow_corpus]\n",
    "\n",
    "\n"
   ]
  },
  {
   "cell_type": "code",
   "execution_count": 11,
   "metadata": {},
   "outputs": [
    {
     "name": "stdout",
     "output_type": "stream",
     "text": [
      "Topic: 0 Word: 0.003*\"vr\" + 0.002*\"train\" + 0.002*\"simul\" + 0.002*\"control\" + 0.002*\"work\" + 0.002*\"design\" + 0.002*\"process\" + 0.002*\"industri\" + 0.002*\"technolog\" + 0.002*\"data\"\nTopic: 1 Word: 0.003*\"design\" + 0.003*\"mainten\" + 0.002*\"simul\" + 0.002*\"factori\" + 0.002*\"comput\" + 0.002*\"model\" + 0.002*\"assembl\" + 0.002*\"technolog\" + 0.002*\"digit\" + 0.002*\"inform\"\nTopic: 2 Word: 0.002*\"vr\" + 0.002*\"assembl\" + 0.002*\"design\" + 0.002*\"train\" + 0.002*\"model\" + 0.002*\"digit\" + 0.002*\"engin\" + 0.002*\"plan\" + 0.002*\"learn\" + 0.002*\"factori\"\nTopic: 3 Word: 0.004*\"mine\" + 0.004*\"safeti\" + 0.003*\"train\" + 0.003*\"robot\" + 0.003*\"design\" + 0.003*\"simul\" + 0.002*\"coal\" + 0.002*\"tool\" + 0.002*\"vr\" + 0.002*\"interact\"\nTopic: 4 Word: 0.002*\"design\" + 0.002*\"model\" + 0.002*\"prototyp\" + 0.002*\"augment\" + 0.002*\"ar\" + 0.002*\"industri\" + 0.002*\"manufactur\" + 0.002*\"game\" + 0.002*\"technolog\" + 0.002*\"vr\"\nTopic: 5 Word: 0.003*\"train\" + 0.003*\"ar\" + 0.002*\"manufactur\" + 0.002*\"design\" + 0.002*\"simul\" + 0.002*\"applic\" + 0.002*\"vr\" + 0.002*\"present\" + 0.002*\"inform\" + 0.002*\"environ\"\nTopic: 6 Word: 0.003*\"model\" + 0.002*\"simul\" + 0.002*\"tool\" + 0.002*\"plan\" + 0.002*\"process\" + 0.002*\"vr\" + 0.002*\"assembl\" + 0.002*\"manufactur\" + 0.002*\"train\" + 0.002*\"design\"\nTopic: 7 Word: 0.004*\"manufactur\" + 0.003*\"construct\" + 0.003*\"industri\" + 0.002*\"model\" + 0.002*\"plan\" + 0.002*\"applic\" + 0.002*\"ar\" + 0.002*\"technolog\" + 0.002*\"oper\" + 0.002*\"design\"\nTopic: 8 Word: 0.003*\"simul\" + 0.002*\"ar\" + 0.002*\"visual\" + 0.002*\"model\" + 0.002*\"imag\" + 0.002*\"design\" + 0.002*\"set\" + 0.002*\"inspect\" + 0.002*\"object\" + 0.002*\"environ\"\nTopic: 9 Word: 0.003*\"coal\" + 0.002*\"simul\" + 0.002*\"mine\" + 0.002*\"assembl\" + 0.002*\"process\" + 0.002*\"technolog\" + 0.002*\"industri\" + 0.002*\"oper\" + 0.002*\"ar\" + 0.002*\"method\"\n\nScore: 0.6092264652252197\t \nTopic: 0.003*\"vr\" + 0.002*\"train\" + 0.002*\"simul\" + 0.002*\"control\" + 0.002*\"work\" + 0.002*\"design\" + 0.002*\"process\" + 0.002*\"industri\" + 0.002*\"technolog\" + 0.002*\"data\"\n\nScore: 0.2815157175064087\t \nTopic: 0.003*\"train\" + 0.003*\"ar\" + 0.002*\"manufactur\" + 0.002*\"design\" + 0.002*\"simul\" + 0.002*\"applic\" + 0.002*\"vr\" + 0.002*\"present\" + 0.002*\"inform\" + 0.002*\"environ\"\n\nScore: 0.10269065201282501\t \nTopic: 0.004*\"manufactur\" + 0.003*\"construct\" + 0.003*\"industri\" + 0.002*\"model\" + 0.002*\"plan\" + 0.002*\"applic\" + 0.002*\"ar\" + 0.002*\"technolog\" + 0.002*\"oper\" + 0.002*\"design\"\n"
     ]
    }
   ],
   "source": [
    "# gensim LDA model over tf-idf\n",
    "lda_tfidf_model = LdaMulticore(corpus_tfidf, num_topics=10, id2word=corpus_dict, passes=2, workers=4)\n",
    "\n",
    "# preview\n",
    "for idx, topic in lda_tfidf_model.print_topics(-1):\n",
    "    print('Topic: {} Word: {}'.format(idx, topic))\n",
    "\n",
    "for index, score in sorted(lda_tfidf_model[bow_corpus[12]], key=lambda tup: -1 * tup[1]):\n",
    "    print(\"\\nScore: {}\\t \\nTopic: {}\".format(score, lda_tfidf_model.print_topic(index, 10)))\n",
    "\n",
    "# visualization\n",
    "vis = pyLDAvis.gensim.prepare(topic_model=lda_tfidf_model, corpus=bow_corpus, dictionary=corpus_dict)\n",
    "vis\n"
   ]
  },
  {
   "cell_type": "code",
   "execution_count": 10,
   "metadata": {},
   "outputs": [
    {
     "ename": "NameError",
     "evalue": "name 'lda_tfidf_model' is not defined",
     "traceback": [
      "\u001b[1;31m---------------------------------------------------------------------------\u001b[0m",
      "\u001b[1;31mNameError\u001b[0m                                 Traceback (most recent call last)",
      "\u001b[1;32m<ipython-input-10-1b4e5c3b16b0>\u001b[0m in \u001b[0;36m<module>\u001b[1;34m\u001b[0m\n\u001b[0;32m      2\u001b[0m \u001b[1;31m# var = utils.visualize_lda_model(model=lda_tfidf_model, corpus=bow_corpus, corpus_dict=corpus_dict)\u001b[0m\u001b[1;33m\u001b[0m\u001b[1;33m\u001b[0m\u001b[0m\n\u001b[0;32m      3\u001b[0m \u001b[1;31m# print(var)\u001b[0m\u001b[1;33m\u001b[0m\u001b[1;33m\u001b[0m\u001b[0m\n\u001b[1;32m----> 4\u001b[1;33m \u001b[0mvis\u001b[0m \u001b[1;33m=\u001b[0m \u001b[0mpyLDAvis\u001b[0m\u001b[1;33m.\u001b[0m\u001b[0mgensim\u001b[0m\u001b[1;33m.\u001b[0m\u001b[0mprepare\u001b[0m\u001b[1;33m(\u001b[0m\u001b[0mtopic_model\u001b[0m\u001b[1;33m=\u001b[0m\u001b[0mlda_tfidf_model\u001b[0m\u001b[1;33m,\u001b[0m \u001b[0mcorpus\u001b[0m\u001b[1;33m=\u001b[0m\u001b[0mbow_corpus\u001b[0m\u001b[1;33m,\u001b[0m\u001b[0mdictionary\u001b[0m\u001b[1;33m=\u001b[0m\u001b[0mcorpus_dict\u001b[0m\u001b[1;33m)\u001b[0m\u001b[1;33m\u001b[0m\u001b[0m\n\u001b[0m\u001b[0;32m      5\u001b[0m \u001b[0mvis\u001b[0m\u001b[1;33m\u001b[0m\u001b[0m\n",
      "\u001b[1;31mNameError\u001b[0m: name 'lda_tfidf_model' is not defined"
     ],
     "output_type": "error"
    }
   ],
   "source": [
    "# Visualize\n",
    "# var = utils.visualize_lda_model(model=lda_tfidf_model, corpus=bow_corpus, corpus_dict=corpus_dict)\n",
    "# print(var)\n",
    "vis = pyLDAvis.gensim.prepare(topic_model=lda_tfidf_model, corpus=bow_corpus,dictionary=corpus_dict)\n",
    "vis"
   ]
  },
  {
   "cell_type": "code",
   "execution_count": null,
   "metadata": {},
   "outputs": [],
   "source": []
  }
 ],
 "metadata": {
  "kernelspec": {
   "display_name": "Python 2",
   "language": "python",
   "name": "python2"
  },
  "language_info": {
   "codemirror_mode": {
    "name": "ipython",
    "version": 2
   },
   "file_extension": ".py",
   "mimetype": "text/x-python",
   "name": "python",
   "nbconvert_exporter": "python",
   "pygments_lexer": "ipython2",
   "version": "2.7.6"
  }
 },
 "nbformat": 4,
 "nbformat_minor": 0
}
